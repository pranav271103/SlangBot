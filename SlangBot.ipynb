{
  "cells": [
    {
      "cell_type": "code",
      "execution_count": 1,
      "metadata": {
        "colab": {
          "base_uri": "https://localhost:8080/"
        },
        "id": "I3fz5jE3Je_5",
        "outputId": "2b31b29a-fbe7-47e9-8d7a-39e07d53da78"
      },
      "outputs": [
        {
          "name": "stdout",
          "output_type": "stream",
          "text": [
            "Requirement already satisfied: gensim in /usr/local/lib/python3.11/dist-packages (4.3.3)\n",
            "Requirement already satisfied: umap-learn in /usr/local/lib/python3.11/dist-packages (0.5.8)\n",
            "Requirement already satisfied: matplotlib in /usr/local/lib/python3.11/dist-packages (3.10.0)\n",
            "Requirement already satisfied: seaborn in /usr/local/lib/python3.11/dist-packages (0.13.2)\n",
            "Requirement already satisfied: numpy<2.0,>=1.18.5 in /usr/local/lib/python3.11/dist-packages (from gensim) (1.26.4)\n",
            "Requirement already satisfied: scipy<1.14.0,>=1.7.0 in /usr/local/lib/python3.11/dist-packages (from gensim) (1.13.1)\n",
            "Requirement already satisfied: smart-open>=1.8.1 in /usr/local/lib/python3.11/dist-packages (from gensim) (7.3.0)\n",
            "Requirement already satisfied: scikit-learn>=1.6 in /usr/local/lib/python3.11/dist-packages (from umap-learn) (1.6.1)\n",
            "Requirement already satisfied: numba>=0.51.2 in /usr/local/lib/python3.11/dist-packages (from umap-learn) (0.60.0)\n",
            "Requirement already satisfied: pynndescent>=0.5 in /usr/local/lib/python3.11/dist-packages (from umap-learn) (0.5.13)\n",
            "Requirement already satisfied: tqdm in /usr/local/lib/python3.11/dist-packages (from umap-learn) (4.67.1)\n",
            "Requirement already satisfied: contourpy>=1.0.1 in /usr/local/lib/python3.11/dist-packages (from matplotlib) (1.3.2)\n",
            "Requirement already satisfied: cycler>=0.10 in /usr/local/lib/python3.11/dist-packages (from matplotlib) (0.12.1)\n",
            "Requirement already satisfied: fonttools>=4.22.0 in /usr/local/lib/python3.11/dist-packages (from matplotlib) (4.58.4)\n",
            "Requirement already satisfied: kiwisolver>=1.3.1 in /usr/local/lib/python3.11/dist-packages (from matplotlib) (1.4.8)\n",
            "Requirement already satisfied: packaging>=20.0 in /usr/local/lib/python3.11/dist-packages (from matplotlib) (24.2)\n",
            "Requirement already satisfied: pillow>=8 in /usr/local/lib/python3.11/dist-packages (from matplotlib) (11.2.1)\n",
            "Requirement already satisfied: pyparsing>=2.3.1 in /usr/local/lib/python3.11/dist-packages (from matplotlib) (3.2.3)\n",
            "Requirement already satisfied: python-dateutil>=2.7 in /usr/local/lib/python3.11/dist-packages (from matplotlib) (2.9.0.post0)\n",
            "Requirement already satisfied: pandas>=1.2 in /usr/local/lib/python3.11/dist-packages (from seaborn) (2.2.2)\n",
            "Requirement already satisfied: llvmlite<0.44,>=0.43.0dev0 in /usr/local/lib/python3.11/dist-packages (from numba>=0.51.2->umap-learn) (0.43.0)\n",
            "Requirement already satisfied: pytz>=2020.1 in /usr/local/lib/python3.11/dist-packages (from pandas>=1.2->seaborn) (2025.2)\n",
            "Requirement already satisfied: tzdata>=2022.7 in /usr/local/lib/python3.11/dist-packages (from pandas>=1.2->seaborn) (2025.2)\n",
            "Requirement already satisfied: joblib>=0.11 in /usr/local/lib/python3.11/dist-packages (from pynndescent>=0.5->umap-learn) (1.5.1)\n",
            "Requirement already satisfied: six>=1.5 in /usr/local/lib/python3.11/dist-packages (from python-dateutil>=2.7->matplotlib) (1.17.0)\n",
            "Requirement already satisfied: threadpoolctl>=3.1.0 in /usr/local/lib/python3.11/dist-packages (from scikit-learn>=1.6->umap-learn) (3.6.0)\n",
            "Requirement already satisfied: wrapt in /usr/local/lib/python3.11/dist-packages (from smart-open>=1.8.1->gensim) (1.17.2)\n"
          ]
        }
      ],
      "source": [
        "!pip install gensim umap-learn matplotlib seaborn\n"
      ]
    },
    {
      "cell_type": "code",
      "execution_count": 2,
      "metadata": {
        "colab": {
          "base_uri": "https://localhost:8080/"
        },
        "id": "bgcP-e_m8ZH2",
        "outputId": "3d1f6856-fd04-4c17-cb9d-a685ded122cc"
      },
      "outputs": [
        {
          "name": "stdout",
          "output_type": "stream",
          "text": [
            "Sample: [['that', 'so', 'nope'], ['gonna', 'npc', 'this', 'real', 'quick'], ['he', 'the', 'gyatt', 'of', 'our', 'group'], ['this', 'track', 'is', 'boujee', 'no', 'lie'], ['gonna', 'fr', 'this', 'real', 'quick']]\n"
          ]
        }
      ],
      "source": [
        "# Install necessary packages\n",
        "\n",
        "from gensim.utils import simple_preprocess\n",
        "import random\n",
        "import matplotlib.pyplot as plt\n",
        "import seaborn as sns\n",
        "import umap\n",
        "import pandas as pd\n",
        "from gensim.models import Word2Vec, FastText\n",
        "\n",
        "# Slang list\n",
        "slang_words = [\n",
        "    \"sus\", \"cap\", \"vibe\", \"bruh\", \"lit\", \"flex\", \"ghosted\", \"lowkey\", \"highkey\", \"yeet\",\n",
        "    \"stan\", \"simp\", \"noob\", \"pog\", \"mood\", \"shade\", \"drip\", \"goat\", \"cringe\", \"based\",\n",
        "    \"ratio\", \"mid\", \"slay\", \"rizz\", \"bet\", \"cheugy\", \"snatched\", \"gyatt\", \"delulu\", \"npc\",\n",
        "    \"bussin\", \"onfleek\", \"fire\", \"boujee\", \"nope\", \"deadass\", \"fr\", \"skrrt\", \"pressed\", \"hits-diff\"\n",
        "]\n",
        "\n",
        "\n",
        "templates = [\n",
        "    \"That's so {}!\", \"He totally {} me yesterday.\", \"I feel really {} today.\",\n",
        "    \"She was acting kinda {}.\", \"This track is {} no lie.\", \"You can't {} like that.\",\n",
        "    \"It's a total {} moment.\", \"He's the {} of our group.\", \"Why are you being so {}?\",\n",
        "    \"I'm gonna {} this real quick.\"\n",
        "]\n",
        "\n",
        "def generate_slang_sentences(num_sentences=1000):\n",
        "    corpus = []\n",
        "    for _ in range(num_sentences):\n",
        "        template = random.choice(templates)\n",
        "        word = random.choice(slang_words)\n",
        "        sentence = template.format(word)\n",
        "        tokens = simple_preprocess(sentence)\n",
        "        corpus.append(tokens)\n",
        "    return corpus\n",
        "\n",
        "slang_corpus = generate_slang_sentences(1000)\n",
        "print(\"Sample:\", slang_corpus[:5])\n"
      ]
    },
    {
      "cell_type": "code",
      "execution_count": 3,
      "metadata": {
        "colab": {
          "base_uri": "https://localhost:8080/"
        },
        "id": "F8kKYZuE8hKT",
        "outputId": "4609b33b-6892-4f7e-cdde-873a05f3c8ae"
      },
      "outputs": [
        {
          "name": "stdout",
          "output_type": "stream",
          "text": [
            "Word2Vec and FastText models trained successfully.\n"
          ]
        }
      ],
      "source": [
        "w2v_model = Word2Vec(\n",
        "    sentences=slang_corpus,\n",
        "    vector_size=100,\n",
        "    window=3,\n",
        "    min_count=1,\n",
        "    sg=1,\n",
        "    workers=4,\n",
        "    epochs=50\n",
        ")\n",
        "\n",
        "ft_model = FastText(\n",
        "    sentences=slang_corpus,\n",
        "    vector_size=100,\n",
        "    window=3,\n",
        "    min_count=1,\n",
        "    sg=1,\n",
        "    workers=4,\n",
        "    epochs=50\n",
        ")\n",
        "\n",
        "print(\"Word2Vec and FastText models trained successfully.\")\n"
      ]
    },
    {
      "cell_type": "code",
      "execution_count": 4,
      "metadata": {
        "colab": {
          "base_uri": "https://localhost:8080/",
          "height": 581
        },
        "id": "0xNAIBpH853X",
        "outputId": "710a3a3c-9f8d-47ee-c427-30f4fddfb79e"
      },
      "outputs": [
        {
          "name": "stderr",
          "output_type": "stream",
          "text": [
            "/usr/local/lib/python3.11/dist-packages/umap/umap_.py:1952: UserWarning: n_jobs value 1 overridden to 1 by setting random_state. Use no seed for parallelism.\n",
            "  warn(\n"
          ]
        },
        {
          "data": {
            "image/png": "[encoded data removed]",
            "text/plain": [
              "<Figure size 1000x600 with 1 Axes>"
            ]
          },
          "metadata": {},
          "output_type": "display_data"
        }
      ],
      "source": [
        "w2v_vocab = list(w2v_model.wv.index_to_key)\n",
        "w2v_vectors = [w2v_model.wv[word] for word in w2v_vocab]\n",
        "\n",
        "reducer = umap.UMAP(n_neighbors=5, min_dist=0.3, metric='cosine', random_state=42)\n",
        "w2v_2d = reducer.fit_transform(w2v_vectors)\n",
        "\n",
        "plt.figure(figsize=(10, 6))\n",
        "sns.scatterplot(x=w2v_2d[:, 0], y=w2v_2d[:, 1], s=100)\n",
        "\n",
        "for i, word in enumerate(w2v_vocab):\n",
        "    plt.text(w2v_2d[i, 0]+0.1, w2v_2d[i, 1]+0.1, word, fontsize=9)\n",
        "\n",
        "plt.title(\"Word2Vec Slang Embeddings (2D via UMAP)\", fontsize=14)\n",
        "plt.grid(True)\n",
        "plt.show()\n"
      ]
    },
    {
      "cell_type": "code",
      "execution_count": 7,
      "metadata": {
        "colab": {
          "base_uri": "https://localhost:8080/"
        },
        "id": "GQTJkJI69A4D",
        "outputId": "9ae5444a-bded-427d-c347-9f76cdb62c76"
      },
      "outputs": [
        {
          "name": "stdout",
          "output_type": "stream",
          "text": [
            "Top similar to 'vibe': [('onfleek', 0.8839797377586365), ('bussin', 0.872498095035553), ('goat', 0.8566151261329651), ('cringe', 0.8365994691848755), ('shade', 0.8159661889076233), ('skrrt', 0.8041557669639587), ('ghosted', 0.778694748878479), ('rizz', 0.7779563665390015), ('mid', 0.7703161835670471), ('fire', 0.7616499066352844)]\n",
            "Top similar to 'cap': [('ghosted', 0.8930937647819519), ('fire', 0.8858343362808228), ('goat', 0.8693902492523193), ('shade', 0.8544554114341736), ('cringe', 0.8533637523651123), ('skrrt', 0.851569414138794), ('bruh', 0.7606157064437866), ('delulu', 0.7305391430854797), ('feel', 0.7284595370292664), ('really', 0.7253232002258301)]\n",
            "Top similar to 'bruh': [('based', 0.8926858305931091), ('pressed', 0.8515817523002625), ('deadass', 0.8451378345489502), ('bet', 0.835780143737793), ('shade', 0.833345890045166), ('fire', 0.8265309929847717), ('sus', 0.8045161962509155), ('lit', 0.7979510426521301), ('yeet', 0.7910833358764648), ('mood', 0.7791404724121094)]\n"
          ]
        }
      ],
      "source": [
        "print(\"Top similar to 'vibe':\", w2v_model.wv.most_similar('vibe'))\n",
        "print(\"Top similar to 'cap':\", w2v_model.wv.most_similar('cap'))\n",
        "print(\"Top similar to 'bruh':\", w2v_model.wv.most_similar('bruh'))\n"
      ]
    },
    {
      "cell_type": "code",
      "execution_count": 8,
      "metadata": {
        "id": "77yQ_JEr9oeA"
      },
      "outputs": [],
      "source": [
        "import numpy as np\n",
        "import seaborn as sns\n",
        "import matplotlib.pyplot as plt\n",
        "\n",
        "def similarity_heatmap(words, model, title=\"Slang Similarity Heatmap\"):\n",
        "    sim_matrix = np.zeros((len(words), len(words)))\n",
        "\n",
        "    for i, w1 in enumerate(words):\n",
        "        for j, w2 in enumerate(words):\n",
        "            if w1 in model.wv and w2 in model.wv:\n",
        "                sim_matrix[i][j] = model.wv.similarity(w1, w2)\n",
        "            else:\n",
        "                sim_matrix[i][j] = 0.0\n",
        "\n",
        "    plt.figure(figsize=(8, 6))\n",
        "    sns.heatmap(sim_matrix, xticklabels=words, yticklabels=words, annot=True, cmap=\"YlGnBu\", fmt=\".2f\")\n",
        "    plt.title(title)\n",
        "    plt.xticks(rotation=45)\n",
        "    plt.yticks(rotation=0)\n",
        "    plt.tight_layout()\n",
        "    plt.show()\n",
        "\n"
      ]
    },
    {
      "cell_type": "code",
      "execution_count": 9,
      "metadata": {
        "colab": {
          "base_uri": "https://localhost:8080/",
          "height": 607
        },
        "id": "y_VF8dHZ9rPi",
        "outputId": "0cc2c41e-0140-475a-998f-1bf90b98ddd9"
      },
      "outputs": [
        {
          "data": {
            "image/png": "[encoded data removed]",
            "text/plain": [
              "<Figure size 800x600 with 2 Axes>"
            ]
          },
          "metadata": {},
          "output_type": "display_data"
        }
      ],
      "source": [
        "import random\n",
        "\n",
        "selected_words = random.sample(w2v_model.wv.index_to_key, 12)\n",
        "similarity_heatmap(selected_words, w2v_model, title=\"Word2Vec Slang Similarity (Random Sample)\")\n"
      ]
    },
    {
      "cell_type": "markdown",
      "metadata": {
        "id": "B3CGNbt7_wU8"
      },
      "source": [
        "### SLANG BOT"
      ]
    },
    {
      "cell_type": "code",
      "execution_count": 21,
      "metadata": {
        "colab": {
          "base_uri": "https://localhost:8080/"
        },
        "id": "t0x1sFCx_165",
        "outputId": "8dad303b-3706-4106-ce7e-669843cde086"
      },
      "outputs": [
        {
          "name": "stdout",
          "output_type": "stream",
          "text": [
            "Collecting markovify\n",
            "  Downloading markovify-0.9.4-py3-none-any.whl.metadata (23 kB)\n",
            "Collecting unidecode (from markovify)\n",
            "  Downloading Unidecode-1.4.0-py3-none-any.whl.metadata (13 kB)\n",
            "Downloading markovify-0.9.4-py3-none-any.whl (19 kB)\n",
            "Downloading Unidecode-1.4.0-py3-none-any.whl (235 kB)\n",
            "\u001b[?25l   \u001b[90m━━━━━━━━━━━━━━━━━━━━━━━━━━━━━━━━━━━━━━━━\u001b[0m \u001b[32m0.0/235.8 kB\u001b[0m \u001b[31m?\u001b[0m eta \u001b[36m-:--:--\u001b[0m\r\u001b[2K   \u001b[90m━━━━━━━━━━━━━━━━━━━━━━━━━━━━━━━━━━━━━━━━\u001b[0m \u001b[32m235.8/235.8 kB\u001b[0m \u001b[31m6.8 MB/s\u001b[0m eta \u001b[36m0:00:00\u001b[0m\n",
            "\u001b[?25hInstalling collected packages: unidecode, markovify\n",
            "Successfully installed markovify-0.9.4 unidecode-1.4.0\n",
            "Markov slang model trained.\n"
          ]
        }
      ],
      "source": [
        "!pip install markovify\n",
        "import markovify\n",
        "\n",
        "# Flatten your tokenized corpus into plain text\n",
        "flat_slang_sentences = [' '.join(tokens) for tokens in slang_corpus]\n",
        "\n",
        "# Create a Markov chain model from the text\n",
        "markov_model = markovify.Text('\\n'.join(flat_slang_sentences), state_size=2)\n",
        "print(\"Markov slang model trained.\")\n"
      ]
    },
    {
      "cell_type": "code",
      "execution_count": 23,
      "metadata": {
        "id": "IJlSujdk_778"
      },
      "outputs": [],
      "source": [
        "slang_prefixes = [\n",
        "    \"fr\", \"deadass\", \"no cap\", \"ngl\", \"lowkey\", \"highkey\", \"sheesh\", \"bet\", \"say less\",\n",
        "    \"on god\", \"real talk\", \"broooo\", \"yo fam\", \"this finna be wild\", \"ain’t no way\",\n",
        "    \"stop the cap\", \"real ones know\", \"it’s giving\", \"i’m shook\", \"straight facts\",\n",
        "    \"you wildin\", \"for real for real\", \"you vibin\", \"skrrt\", \"this bussin\", \"legit\",\n",
        "    \"nah fam\", \"on fleek\", \"don’t @ me\", \"that part\", \"💀\", \"🗿\", \"🔥\", \"💅\", \"🫡\"\n",
        "]"
      ]
    },
    {
      "cell_type": "code",
      "execution_count": 26,
      "metadata": {
        "id": "-M5cibU0AxlV"
      },
      "outputs": [],
      "source": [
        "def slang_chatbot(user_input):\n",
        "    input_tokens = user_input.lower().split()\n",
        "    slang_replies = []\n",
        "\n",
        "    # Find slang-related words\n",
        "    for token in input_tokens:\n",
        "        if token in w2v_model.wv:\n",
        "            similar = w2v_model.wv.most_similar(token, topn=5)\n",
        "            slang_replies.extend([word for word, _ in similar])\n",
        "\n",
        "    # Try Markov response\n",
        "    markov_line = markov_model.make_short_sentence(80)\n",
        "\n",
        "    if markov_line:\n",
        "        prefix = random.choice(slang_prefixes)\n",
        "        return f\"{prefix}, {markov_line}\"\n",
        "\n",
        "    # If Markov fails, craft a slangy reply\n",
        "    fallback_templates = [\n",
        "        \"that's so {slang}, no cap.\",\n",
        "        \"you kinda giving off {slang} vibes rn.\",\n",
        "        \"i feel that, it's totally {slang}.\",\n",
        "        \"bro that's legit {slang}.\",\n",
        "        \"happens to the best, stay {slang}.\",\n",
        "        \"nahh that's wild, you {slang} fr.\",\n",
        "        \"sounds {slang}, not gonna lie.\"\n",
        "    ]\n",
        "\n",
        "    if slang_replies:\n",
        "        selected_slang = random.choice(slang_replies)\n",
        "    else:\n",
        "        selected_slang = random.choice(slang_words)\n",
        "\n",
        "    template = random.choice(fallback_templates)\n",
        "    prefix = random.choice(slang_prefixes)\n",
        "    return f\"{prefix}, {template.format(slang=selected_slang)}\"\n"
      ]
    },
    {
      "cell_type": "code",
      "execution_count": 28,
      "metadata": {
        "colab": {
          "base_uri": "https://localhost:8080/"
        },
        "id": "ZVwCvNQ1AGmC",
        "outputId": "917c0640-c87f-407f-dc9d-271cd7fbc23e"
      },
      "outputs": [
        {
          "name": "stdout",
          "output_type": "stream",
          "text": [
            "...............SlangBot is live! Type 'exit' to stop chatting...............\n",
            "\n",
            "You: hello homie\n",
            "SlangBot: on fleek, happens to the best, stay goat.\n",
            "You: fr\n",
            "SlangBot: broooo, that's so vibe, no cap.\n",
            "You: fr it is \n",
            "SlangBot: 🫡, feel really cap today gonna cringe this real quick\n",
            "You: no cap\n",
            "SlangBot: this bussin, bro that's legit track.\n",
            "You: exit\n",
            "................Aight, peace out homie..........\n"
          ]
        }
      ],
      "source": [
        "# Launch a text-based chat loop (use in notebook)\n",
        "print(\"...............SlangBot is live! Type 'exit' to stop chatting...............\\n\")\n",
        "while True:\n",
        "    user = input(\"You: \")\n",
        "    if user.lower() in [\"exit\", \"quit\"]:\n",
        "        print(\"................Aight, peace out homie..........\")\n",
        "        break\n",
        "    response = slang_chatbot(user)\n",
        "    print(\"SlangBot:\", response)\n"
      ]
    },
    {
      "cell_type": "markdown",
      "metadata": {
        "id": "dGmxujaACTrQ"
      },
      "source": [
        "### SMART SLANGBOT"
      ]
    },
    {
      "cell_type": "code",
      "execution_count": 10,
      "metadata": {
        "colab": {
          "base_uri": "https://localhost:8080/",
          "height": 17,
          "referenced_widgets": [
            "08fbe7afe9f74f2086412cd701500b98",
            "9cb46bdceaea4a99b45f3328e9969ff2",
            "97fe8c830f5b4ae8890c0c17e33cec7c",
            "79a9a71c082147aa955ff7684e933d27",
            "28034214e0d848d7bea8c8ecaeccc83e",
            "9bbfafbbb67743e8a675208aca75a838",
            "3574187099214857b48968fa90f1dcbd",
            "83601c37729446e7a5a5a40622a0c8cf",
            "075c04d496954b2b9ea7554f083eb2f8",
            "8aea0b846870432281900ff45b4921f4",
            "e2337937d9144d1ea9a3e1a544d76b68",
            "d9ecd510fb6a48c3987130b04f6287d6",
            "3cde5ca93d0f4f5ea759d1b5f5b5b761",
            "581bc0ade9044cf89726bdf25489b891",
            "91888c9b3e124ce3af8ecc85372961c9",
            "a1909ecc0ab4433c906ee586c2cc6a07",
            "a5223b93973e49b58bd95ccd86975b60",
            "c5be5cfa2886495eb45e8c2db3ada8f7",
            "0a49c03f744445a7830180109dda0550",
            "098555eb61284079868d5021b5d7dbab"
          ]
        },
        "id": "PX7n0UCWGgl0",
        "outputId": "032285be-ff61-451c-b371-0fc568d11d87"
      },
      "outputs": [
        {
          "data": {
            "application/vnd.jupyter.widget-view+json": {
              "model_id": "08fbe7afe9f74f2086412cd701500b98",
              "version_major": 2,
              "version_minor": 0
            },
            "text/plain": [
              "VBox(children=(HTML(value='<center> <img\\nsrc=https://huggingface.co/front/assets/huggingface_logo-noborder.sv…"
            ]
          },
          "metadata": {},
          "output_type": "display_data"
        }
      ],
      "source": [
        "from huggingface_hub import login\n",
        "login()\n"
      ]
    },
    {
      "cell_type": "code",
      "execution_count": 11,
      "metadata": {
        "colab": {
          "base_uri": "https://localhost:8080/",
          "height": 625,
          "referenced_widgets": [
            "f09e7cb22fd840acbb5da36409ff6f2b",
            "4b57280b6ff843dca616ea1ed581aa0e",
            "67e893fed75a4dc0a1ecc762f042f492",
            "a715ca81311a4c698fd4280f05fd433a",
            "9259a6eee83946dbb4215daf983c75be",
            "5882f01c2bcf42d487394048b050ce57",
            "795b2a73e7bb4c2bb9bfb82e2a404ecf",
            "d1c1d6498e8b4c799e22b7e837d4263c",
            "40983b08ec2a4629b8b0fa274fb2a6d4",
            "ae718b1aef3546bbb8e5b9a69c9dca62",
            "dea9fff5703b4c8e921b45500d67e7ed"
          ]
        },
        "id": "9N1cwyUXCXYy",
        "outputId": "ae6846c4-7024-414c-80b0-67332e6184d3"
      },
      "outputs": [
        {
          "name": "stderr",
          "output_type": "stream",
          "text": [
            "/usr/local/lib/python3.11/dist-packages/huggingface_hub/utils/_auth.py:94: UserWarning: \n",
            "The secret `HF_TOKEN` does not exist in your Colab secrets.\n",
            "To authenticate with the Hugging Face Hub, create a token in your settings tab (https://huggingface.co/settings/tokens), set it as secret in your Google Colab and restart your session.\n",
            "You will be able to reuse this secret in all of your notebooks.\n",
            "Please note that authentication is recommended but still optional to access public models or datasets.\n",
            "  warnings.warn(\n"
          ]
        },
        {
          "data": {
            "application/vnd.jupyter.widget-view+json": {
              "model_id": "f09e7cb22fd840acbb5da36409ff6f2b",
              "version_major": 2,
              "version_minor": 0
            },
            "text/plain": [
              "Loading checkpoint shards:   0%|          | 0/2 [00:00<?, ?it/s]"
            ]
          },
          "metadata": {},
          "output_type": "display_data"
        },
        {
          "data": {
            "text/plain": [
              "GemmaForCausalLM(\n",
              "  (model): GemmaModel(\n",
              "    (embed_tokens): Embedding(256000, 2048, padding_idx=0)\n",
              "    (layers): ModuleList(\n",
              "      (0-17): 18 x GemmaDecoderLayer(\n",
              "        (self_attn): GemmaAttention(\n",
              "          (q_proj): Linear(in_features=2048, out_features=2048, bias=False)\n",
              "          (k_proj): Linear(in_features=2048, out_features=256, bias=False)\n",
              "          (v_proj): Linear(in_features=2048, out_features=256, bias=False)\n",
              "          (o_proj): Linear(in_features=2048, out_features=2048, bias=False)\n",
              "        )\n",
              "        (mlp): GemmaMLP(\n",
              "          (gate_proj): Linear(in_features=2048, out_features=16384, bias=False)\n",
              "          (up_proj): Linear(in_features=2048, out_features=16384, bias=False)\n",
              "          (down_proj): Linear(in_features=16384, out_features=2048, bias=False)\n",
              "          (act_fn): GELUActivation()\n",
              "        )\n",
              "        (input_layernorm): GemmaRMSNorm((2048,), eps=1e-06)\n",
              "        (post_attention_layernorm): GemmaRMSNorm((2048,), eps=1e-06)\n",
              "      )\n",
              "    )\n",
              "    (norm): GemmaRMSNorm((2048,), eps=1e-06)\n",
              "    (rotary_emb): GemmaRotaryEmbedding()\n",
              "  )\n",
              "  (lm_head): Linear(in_features=2048, out_features=256000, bias=False)\n",
              ")"
            ]
          },
          "execution_count": 11,
          "metadata": {},
          "output_type": "execute_result"
        }
      ],
      "source": [
        "!pip install transformers accelerate --quiet\n",
        "\n",
        "from transformers import AutoTokenizer, AutoModelForCausalLM\n",
        "import torch\n",
        "\n",
        "model_name = \"google/gemma-2b-it\"\n",
        "\n",
        "tokenizer = AutoTokenizer.from_pretrained(model_name)\n",
        "tokenizer.pad_token = tokenizer.eos_token  # Required for padding\n",
        "model = AutoModelForCausalLM.from_pretrained(\n",
        "    model_name,\n",
        "    device_map=\"auto\",\n",
        "    torch_dtype=torch.bfloat16  # faster and smaller\n",
        ")\n",
        "model.eval()\n"
      ]
    },
    {
      "cell_type": "code",
      "execution_count": 25,
      "metadata": {
        "id": "_IaAUfj1FMn_"
      },
      "outputs": [],
      "source": [
        "def generate_base_response(user_input, max_new_tokens=80):\n",
        "    identity = (\n",
        "        \"You are SlangBot — an informal, humorous chatbot powered by a Google AI model \"\n",
        "        \"and trained on Gen-Z, TikTok, and internet slang. Reply casually and in character.\"\n",
        "    )\n",
        "\n",
        "    prompt = tokenizer.apply_chat_template(\n",
        "        [{\"role\": \"user\", \"content\": f\"{identity} {user_input}\"}],\n",
        "        tokenize=False, add_generation_prompt=True\n",
        "    )\n",
        "\n",
        "    inputs = tokenizer(prompt, return_tensors=\"pt\").to(model.device)\n",
        "\n",
        "    outputs = model.generate(\n",
        "        **inputs,\n",
        "        max_new_tokens=max_new_tokens,\n",
        "        do_sample=True,\n",
        "        top_k=50,\n",
        "        top_p=0.95,\n",
        "        temperature=0.9\n",
        "    )\n",
        "\n",
        "    decoded = tokenizer.decode(outputs[0], skip_special_tokens=True)\n",
        "\n",
        "    # Strip off echoed identity if present\n",
        "    if identity in decoded:\n",
        "        decoded = decoded.split(identity)[-1].strip()\n",
        "    if \"user:\" in decoded:\n",
        "        decoded = decoded.split(\"user:\")[-1].strip()\n",
        "    if \"model:\" in decoded:\n",
        "        decoded = decoded.split(\"model:\")[-1].strip()\n",
        "\n",
        "    return decoded\n"
      ]
    },
    {
      "cell_type": "code",
      "execution_count": 13,
      "metadata": {
        "id": "PA8EpKb8FSUe"
      },
      "outputs": [],
      "source": [
        "slang_prefixes = [\n",
        "    \"fr\", \"deadass\", \"no cap\", \"ngl\", \"lowkey\", \"highkey\", \"sheesh\", \"bet\", \"say less\",\n",
        "    \"on god\", \"real talk\", \"broooo\", \"yo fam\", \"this finna be wild\", \"ain’t no way\",\n",
        "    \"stop the cap\", \"real ones know\", \"it’s giving\", \"i’m shook\", \"straight facts\",\n",
        "    \"you wildin\", \"for real for real\", \"you vibin\", \"skrrt\", \"this bussin\", \"legit\",\n",
        "    \"nah fam\", \"on fleek\", \"don’t @ me\", \"that part\", \"💀\", \"🗿\", \"🔥\", \"💅\", \"🫡\"\n",
        "]"
      ]
    },
    {
      "cell_type": "code",
      "execution_count": 17,
      "metadata": {
        "id": "DSJaL6XcFQDY"
      },
      "outputs": [],
      "source": [
        "import random\n",
        "\n",
        "def slangify(text, topn=3):\n",
        "    tokens = text.lower().split()\n",
        "    slangified = []\n",
        "    for word in tokens:\n",
        "        if word in w2v_model.wv:\n",
        "            try:\n",
        "                slangified.append(random.choice(w2v_model.wv.most_similar(word, topn=topn))[0])\n",
        "            except:\n",
        "                slangified.append(word)\n",
        "        else:\n",
        "            slangified.append(word)\n",
        "    return f\"{random.choice(slang_prefixes)}, {' '.join(slangified)} {random.choice(['🔥','💀','🫡'])}\"\n",
        "\n"
      ]
    },
    {
      "cell_type": "code",
      "execution_count": 15,
      "metadata": {
        "id": "zsVsbuu2FWn4"
      },
      "outputs": [],
      "source": [
        "def slangbot_respond(user_input):\n",
        "    base = generate_base_response(user_input)\n",
        "    return slangify(base)\n"
      ]
    },
    {
      "cell_type": "code",
      "execution_count": 26,
      "metadata": {
        "colab": {
          "base_uri": "https://localhost:8080/"
        },
        "id": "RKcXiHoOFXv9",
        "outputId": "f9b76cab-d30d-4f05-86ef-026e3607cb01"
      },
      "outputs": [
        {
          "name": "stdout",
          "output_type": "stream",
          "text": [
            "Gemma‑SlangBot Ready! Type exit to quit.\n",
            "You: yo!\n",
            "SlangBot: fr, yo! model yo! heard so need some slang definitions, fam! 😎 just spit your query, and i'll drop some heat. 😂 from dank memes to fire-up slang, i've got so covered. 🔥 #slangbotatthegram 🤖 🫡\n",
            "You: dope stuff dude\n",
            "SlangBot: broooo, dope stuff dude model yo, dude, what's poppin' off, fam? need a vocab boost for your next insta story? is prob, i'm here to drop some skrrt slang that'll make like spit out your coffee. 🔥 hit he with your questions, and let's level up your slang game together! 😎 🫡\n",
            "You: who are you what can you do?\n",
            "SlangBot: broooo, who why so what you so do? model yo! i'm slangbot, your friendly neighborhood slang sensei. need to know of latest drill? our hottest gossip? i'm here to drop some truth bombs you a vault door full group cheeto dust. hit he with your questions, and prepare to get cultured in group world the slang! 😎 🫡\n",
            "You: cool stuff yo dude!\n",
            "SlangBot: legit, cool stuff yo dude! model yo dude, what's up? 😎 just cruisin' through of interweb, droppin' some knowledge can it's hot sauce. 🔥 what's on your mind? 🔥 🔥\n",
            "You: exit\n",
            "SlangBot: peace out\n"
          ]
        }
      ],
      "source": [
        "print(\"Gemma‑SlangBot Ready! Type exit to quit.\")\n",
        "while True:\n",
        "    user = input(\"You: \")\n",
        "    if user.lower() in [\"exit\", \"quit\"]:\n",
        "        print(\"SlangBot: peace out\")\n",
        "        break\n",
        "    print(\"SlangBot:\", slangbot_respond(user))\n"
      ]
    }
  ],
  "metadata": {
    "accelerator": "GPU",
    "colab": {
      "gpuType": "A100",
      "machine_shape": "hm",
      "provenance": []
    },
    "kernelspec": {
      "display_name": "Python 3",
      "name": "python3"
    },
    "language_info": {
      "name": "python"
    },
    "widgets": {
      "application/vnd.jupyter.widget-state+json": {
        "075c04d496954b2b9ea7554f083eb2f8": {
          "model_module": "@jupyter-widgets/controls",
          "model_module_version": "1.5.0",
          "model_name": "DescriptionStyleModel",
          "state": {
            "_model_module": "@jupyter-widgets/controls",
            "_model_module_version": "1.5.0",
            "_model_name": "DescriptionStyleModel",
            "_view_count": null,
            "_view_module": "@jupyter-widgets/base",
            "_view_module_version": "1.2.0",
            "_view_name": "StyleView",
            "description_width": ""
          }
        },
        "08fbe7afe9f74f2086412cd701500b98": {
          "model_module": "@jupyter-widgets/controls",
          "model_module_version": "1.5.0",
          "model_name": "VBoxModel",
          "state": {
            "_dom_classes": [],
            "_model_module": "@jupyter-widgets/controls",
            "_model_module_version": "1.5.0",
            "_model_name": "VBoxModel",
            "_view_count": null,
            "_view_module": "@jupyter-widgets/controls",
            "_view_module_version": "1.5.0",
            "_view_name": "VBoxView",
            "box_style": "",
            "children": [],
            "layout": "IPY_MODEL_3574187099214857b48968fa90f1dcbd"
          }
        },
        "098555eb61284079868d5021b5d7dbab": {
          "model_module": "@jupyter-widgets/controls",
          "model_module_version": "1.5.0",
          "model_name": "DescriptionStyleModel",
          "state": {
            "_model_module": "@jupyter-widgets/controls",
            "_model_module_version": "1.5.0",
            "_model_name": "DescriptionStyleModel",
            "_view_count": null,
            "_view_module": "@jupyter-widgets/base",
            "_view_module_version": "1.2.0",
            "_view_name": "StyleView",
            "description_width": ""
          }
        },
        "0a49c03f744445a7830180109dda0550": {
          "model_module": "@jupyter-widgets/base",
          "model_module_version": "1.2.0",
          "model_name": "LayoutModel",
          "state": {
            "_model_module": "@jupyter-widgets/base",
            "_model_module_version": "1.2.0",
            "_model_name": "LayoutModel",
            "_view_count": null,
            "_view_module": "@jupyter-widgets/base",
            "_view_module_version": "1.2.0",
            "_view_name": "LayoutView",
            "align_content": null,
            "align_items": null,
            "align_self": null,
            "border": null,
            "bottom": null,
            "display": null,
            "flex": null,
            "flex_flow": null,
            "grid_area": null,
            "grid_auto_columns": null,
            "grid_auto_flow": null,
            "grid_auto_rows": null,
            "grid_column": null,
            "grid_gap": null,
            "grid_row": null,
            "grid_template_areas": null,
            "grid_template_columns": null,
            "grid_template_rows": null,
            "height": null,
            "justify_content": null,
            "justify_items": null,
            "left": null,
            "margin": null,
            "max_height": null,
            "max_width": null,
            "min_height": null,
            "min_width": null,
            "object_fit": null,
            "object_position": null,
            "order": null,
            "overflow": null,
            "overflow_x": null,
            "overflow_y": null,
            "padding": null,
            "right": null,
            "top": null,
            "visibility": null,
            "width": null
          }
        },
        "28034214e0d848d7bea8c8ecaeccc83e": {
          "model_module": "@jupyter-widgets/controls",
          "model_module_version": "1.5.0",
          "model_name": "ButtonModel",
          "state": {
            "_dom_classes": [],
            "_model_module": "@jupyter-widgets/controls",
            "_model_module_version": "1.5.0",
            "_model_name": "ButtonModel",
            "_view_count": null,
            "_view_module": "@jupyter-widgets/controls",
            "_view_module_version": "1.5.0",
            "_view_name": "ButtonView",
            "button_style": "",
            "description": "Login",
            "disabled": false,
            "icon": "",
            "layout": "IPY_MODEL_581bc0ade9044cf89726bdf25489b891",
            "style": "IPY_MODEL_91888c9b3e124ce3af8ecc85372961c9",
            "tooltip": ""
          }
        },
        "3574187099214857b48968fa90f1dcbd": {
          "model_module": "@jupyter-widgets/base",
          "model_module_version": "1.2.0",
          "model_name": "LayoutModel",
          "state": {
            "_model_module": "@jupyter-widgets/base",
            "_model_module_version": "1.2.0",
            "_model_name": "LayoutModel",
            "_view_count": null,
            "_view_module": "@jupyter-widgets/base",
            "_view_module_version": "1.2.0",
            "_view_name": "LayoutView",
            "align_content": null,
            "align_items": "center",
            "align_self": null,
            "border": null,
            "bottom": null,
            "display": "flex",
            "flex": null,
            "flex_flow": "column",
            "grid_area": null,
            "grid_auto_columns": null,
            "grid_auto_flow": null,
            "grid_auto_rows": null,
            "grid_column": null,
            "grid_gap": null,
            "grid_row": null,
            "grid_template_areas": null,
            "grid_template_columns": null,
            "grid_template_rows": null,
            "height": null,
            "justify_content": null,
            "justify_items": null,
            "left": null,
            "margin": null,
            "max_height": null,
            "max_width": null,
            "min_height": null,
            "min_width": null,
            "object_fit": null,
            "object_position": null,
            "order": null,
            "overflow": null,
            "overflow_x": null,
            "overflow_y": null,
            "padding": null,
            "right": null,
            "top": null,
            "visibility": null,
            "width": "50%"
          }
        },
        "3cde5ca93d0f4f5ea759d1b5f5b5b761": {
          "model_module": "@jupyter-widgets/controls",
          "model_module_version": "1.5.0",
          "model_name": "DescriptionStyleModel",
          "state": {
            "_model_module": "@jupyter-widgets/controls",
            "_model_module_version": "1.5.0",
            "_model_name": "DescriptionStyleModel",
            "_view_count": null,
            "_view_module": "@jupyter-widgets/base",
            "_view_module_version": "1.2.0",
            "_view_name": "StyleView",
            "description_width": ""
          }
        },
        "40983b08ec2a4629b8b0fa274fb2a6d4": {
          "model_module": "@jupyter-widgets/controls",
          "model_module_version": "1.5.0",
          "model_name": "ProgressStyleModel",
          "state": {
            "_model_module": "@jupyter-widgets/controls",
            "_model_module_version": "1.5.0",
            "_model_name": "ProgressStyleModel",
            "_view_count": null,
            "_view_module": "@jupyter-widgets/base",
            "_view_module_version": "1.2.0",
            "_view_name": "StyleView",
            "bar_color": null,
            "description_width": ""
          }
        },
        "4b57280b6ff843dca616ea1ed581aa0e": {
          "model_module": "@jupyter-widgets/controls",
          "model_module_version": "1.5.0",
          "model_name": "HTMLModel",
          "state": {
            "_dom_classes": [],
            "_model_module": "@jupyter-widgets/controls",
            "_model_module_version": "1.5.0",
            "_model_name": "HTMLModel",
            "_view_count": null,
            "_view_module": "@jupyter-widgets/controls",
            "_view_module_version": "1.5.0",
            "_view_name": "HTMLView",
            "description": "",
            "description_tooltip": null,
            "layout": "IPY_MODEL_5882f01c2bcf42d487394048b050ce57",
            "placeholder": "​",
            "style": "IPY_MODEL_795b2a73e7bb4c2bb9bfb82e2a404ecf",
            "value": "Loading checkpoint shards: 100%"
          }
        },
        "581bc0ade9044cf89726bdf25489b891": {
          "model_module": "@jupyter-widgets/base",
          "model_module_version": "1.2.0",
          "model_name": "LayoutModel",
          "state": {
            "_model_module": "@jupyter-widgets/base",
            "_model_module_version": "1.2.0",
            "_model_name": "LayoutModel",
            "_view_count": null,
            "_view_module": "@jupyter-widgets/base",
            "_view_module_version": "1.2.0",
            "_view_name": "LayoutView",
            "align_content": null,
            "align_items": null,
            "align_self": null,
            "border": null,
            "bottom": null,
            "display": null,
            "flex": null,
            "flex_flow": null,
            "grid_area": null,
            "grid_auto_columns": null,
            "grid_auto_flow": null,
            "grid_auto_rows": null,
            "grid_column": null,
            "grid_gap": null,
            "grid_row": null,
            "grid_template_areas": null,
            "grid_template_columns": null,
            "grid_template_rows": null,
            "height": null,
            "justify_content": null,
            "justify_items": null,
            "left": null,
            "margin": null,
            "max_height": null,
            "max_width": null,
            "min_height": null,
            "min_width": null,
            "object_fit": null,
            "object_position": null,
            "order": null,
            "overflow": null,
            "overflow_x": null,
            "overflow_y": null,
            "padding": null,
            "right": null,
            "top": null,
            "visibility": null,
            "width": null
          }
        },
        "5882f01c2bcf42d487394048b050ce57": {
          "model_module": "@jupyter-widgets/base",
          "model_module_version": "1.2.0",
          "model_name": "LayoutModel",
          "state": {
            "_model_module": "@jupyter-widgets/base",
            "_model_module_version": "1.2.0",
            "_model_name": "LayoutModel",
            "_view_count": null,
            "_view_module": "@jupyter-widgets/base",
            "_view_module_version": "1.2.0",
            "_view_name": "LayoutView",
            "align_content": null,
            "align_items": null,
            "align_self": null,
            "border": null,
            "bottom": null,
            "display": null,
            "flex": null,
            "flex_flow": null,
            "grid_area": null,
            "grid_auto_columns": null,
            "grid_auto_flow": null,
            "grid_auto_rows": null,
            "grid_column": null,
            "grid_gap": null,
            "grid_row": null,
            "grid_template_areas": null,
            "grid_template_columns": null,
            "grid_template_rows": null,
            "height": null,
            "justify_content": null,
            "justify_items": null,
            "left": null,
            "margin": null,
            "max_height": null,
            "max_width": null,
            "min_height": null,
            "min_width": null,
            "object_fit": null,
            "object_position": null,
            "order": null,
            "overflow": null,
            "overflow_x": null,
            "overflow_y": null,
            "padding": null,
            "right": null,
            "top": null,
            "visibility": null,
            "width": null
          }
        },
        "67e893fed75a4dc0a1ecc762f042f492": {
          "model_module": "@jupyter-widgets/controls",
          "model_module_version": "1.5.0",
          "model_name": "FloatProgressModel",
          "state": {
            "_dom_classes": [],
            "_model_module": "@jupyter-widgets/controls",
            "_model_module_version": "1.5.0",
            "_model_name": "FloatProgressModel",
            "_view_count": null,
            "_view_module": "@jupyter-widgets/controls",
            "_view_module_version": "1.5.0",
            "_view_name": "ProgressView",
            "bar_style": "success",
            "description": "",
            "description_tooltip": null,
            "layout": "IPY_MODEL_d1c1d6498e8b4c799e22b7e837d4263c",
            "max": 2,
            "min": 0,
            "orientation": "horizontal",
            "style": "IPY_MODEL_40983b08ec2a4629b8b0fa274fb2a6d4",
            "value": 2
          }
        },
        "795b2a73e7bb4c2bb9bfb82e2a404ecf": {
          "model_module": "@jupyter-widgets/controls",
          "model_module_version": "1.5.0",
          "model_name": "DescriptionStyleModel",
          "state": {
            "_model_module": "@jupyter-widgets/controls",
            "_model_module_version": "1.5.0",
            "_model_name": "DescriptionStyleModel",
            "_view_count": null,
            "_view_module": "@jupyter-widgets/base",
            "_view_module_version": "1.2.0",
            "_view_name": "StyleView",
            "description_width": ""
          }
        },
        "79a9a71c082147aa955ff7684e933d27": {
          "model_module": "@jupyter-widgets/controls",
          "model_module_version": "1.5.0",
          "model_name": "CheckboxModel",
          "state": {
            "_dom_classes": [],
            "_model_module": "@jupyter-widgets/controls",
            "_model_module_version": "1.5.0",
            "_model_name": "CheckboxModel",
            "_view_count": null,
            "_view_module": "@jupyter-widgets/controls",
            "_view_module_version": "1.5.0",
            "_view_name": "CheckboxView",
            "description": "Add token as git credential?",
            "description_tooltip": null,
            "disabled": false,
            "indent": true,
            "layout": "IPY_MODEL_d9ecd510fb6a48c3987130b04f6287d6",
            "style": "IPY_MODEL_3cde5ca93d0f4f5ea759d1b5f5b5b761",
            "value": false
          }
        },
        "83601c37729446e7a5a5a40622a0c8cf": {
          "model_module": "@jupyter-widgets/base",
          "model_module_version": "1.2.0",
          "model_name": "LayoutModel",
          "state": {
            "_model_module": "@jupyter-widgets/base",
            "_model_module_version": "1.2.0",
            "_model_name": "LayoutModel",
            "_view_count": null,
            "_view_module": "@jupyter-widgets/base",
            "_view_module_version": "1.2.0",
            "_view_name": "LayoutView",
            "align_content": null,
            "align_items": null,
            "align_self": null,
            "border": null,
            "bottom": null,
            "display": null,
            "flex": null,
            "flex_flow": null,
            "grid_area": null,
            "grid_auto_columns": null,
            "grid_auto_flow": null,
            "grid_auto_rows": null,
            "grid_column": null,
            "grid_gap": null,
            "grid_row": null,
            "grid_template_areas": null,
            "grid_template_columns": null,
            "grid_template_rows": null,
            "height": null,
            "justify_content": null,
            "justify_items": null,
            "left": null,
            "margin": null,
            "max_height": null,
            "max_width": null,
            "min_height": null,
            "min_width": null,
            "object_fit": null,
            "object_position": null,
            "order": null,
            "overflow": null,
            "overflow_x": null,
            "overflow_y": null,
            "padding": null,
            "right": null,
            "top": null,
            "visibility": null,
            "width": null
          }
        },
        "8aea0b846870432281900ff45b4921f4": {
          "model_module": "@jupyter-widgets/base",
          "model_module_version": "1.2.0",
          "model_name": "LayoutModel",
          "state": {
            "_model_module": "@jupyter-widgets/base",
            "_model_module_version": "1.2.0",
            "_model_name": "LayoutModel",
            "_view_count": null,
            "_view_module": "@jupyter-widgets/base",
            "_view_module_version": "1.2.0",
            "_view_name": "LayoutView",
            "align_content": null,
            "align_items": null,
            "align_self": null,
            "border": null,
            "bottom": null,
            "display": null,
            "flex": null,
            "flex_flow": null,
            "grid_area": null,
            "grid_auto_columns": null,
            "grid_auto_flow": null,
            "grid_auto_rows": null,
            "grid_column": null,
            "grid_gap": null,
            "grid_row": null,
            "grid_template_areas": null,
            "grid_template_columns": null,
            "grid_template_rows": null,
            "height": null,
            "justify_content": null,
            "justify_items": null,
            "left": null,
            "margin": null,
            "max_height": null,
            "max_width": null,
            "min_height": null,
            "min_width": null,
            "object_fit": null,
            "object_position": null,
            "order": null,
            "overflow": null,
            "overflow_x": null,
            "overflow_y": null,
            "padding": null,
            "right": null,
            "top": null,
            "visibility": null,
            "width": null
          }
        },
        "91888c9b3e124ce3af8ecc85372961c9": {
          "model_module": "@jupyter-widgets/controls",
          "model_module_version": "1.5.0",
          "model_name": "ButtonStyleModel",
          "state": {
            "_model_module": "@jupyter-widgets/controls",
            "_model_module_version": "1.5.0",
            "_model_name": "ButtonStyleModel",
            "_view_count": null,
            "_view_module": "@jupyter-widgets/base",
            "_view_module_version": "1.2.0",
            "_view_name": "StyleView",
            "button_color": null,
            "font_weight": ""
          }
        },
        "9259a6eee83946dbb4215daf983c75be": {
          "model_module": "@jupyter-widgets/base",
          "model_module_version": "1.2.0",
          "model_name": "LayoutModel",
          "state": {
            "_model_module": "@jupyter-widgets/base",
            "_model_module_version": "1.2.0",
            "_model_name": "LayoutModel",
            "_view_count": null,
            "_view_module": "@jupyter-widgets/base",
            "_view_module_version": "1.2.0",
            "_view_name": "LayoutView",
            "align_content": null,
            "align_items": null,
            "align_self": null,
            "border": null,
            "bottom": null,
            "display": null,
            "flex": null,
            "flex_flow": null,
            "grid_area": null,
            "grid_auto_columns": null,
            "grid_auto_flow": null,
            "grid_auto_rows": null,
            "grid_column": null,
            "grid_gap": null,
            "grid_row": null,
            "grid_template_areas": null,
            "grid_template_columns": null,
            "grid_template_rows": null,
            "height": null,
            "justify_content": null,
            "justify_items": null,
            "left": null,
            "margin": null,
            "max_height": null,
            "max_width": null,
            "min_height": null,
            "min_width": null,
            "object_fit": null,
            "object_position": null,
            "order": null,
            "overflow": null,
            "overflow_x": null,
            "overflow_y": null,
            "padding": null,
            "right": null,
            "top": null,
            "visibility": null,
            "width": null
          }
        },
        "97fe8c830f5b4ae8890c0c17e33cec7c": {
          "model_module": "@jupyter-widgets/controls",
          "model_module_version": "1.5.0",
          "model_name": "PasswordModel",
          "state": {
            "_dom_classes": [],
            "_model_module": "@jupyter-widgets/controls",
            "_model_module_version": "1.5.0",
            "_model_name": "PasswordModel",
            "_view_count": null,
            "_view_module": "@jupyter-widgets/controls",
            "_view_module_version": "1.5.0",
            "_view_name": "PasswordView",
            "continuous_update": true,
            "description": "Token:",
            "description_tooltip": null,
            "disabled": false,
            "layout": "IPY_MODEL_8aea0b846870432281900ff45b4921f4",
            "placeholder": "​",
            "style": "IPY_MODEL_e2337937d9144d1ea9a3e1a544d76b68",
            "value": ""
          }
        },
        "9bbfafbbb67743e8a675208aca75a838": {
          "model_module": "@jupyter-widgets/controls",
          "model_module_version": "1.5.0",
          "model_name": "HTMLModel",
          "state": {
            "_dom_classes": [],
            "_model_module": "@jupyter-widgets/controls",
            "_model_module_version": "1.5.0",
            "_model_name": "HTMLModel",
            "_view_count": null,
            "_view_module": "@jupyter-widgets/controls",
            "_view_module_version": "1.5.0",
            "_view_name": "HTMLView",
            "description": "",
            "description_tooltip": null,
            "layout": "IPY_MODEL_a1909ecc0ab4433c906ee586c2cc6a07",
            "placeholder": "​",
            "style": "IPY_MODEL_a5223b93973e49b58bd95ccd86975b60",
            "value": "\n<b>Pro Tip:</b> If you don't already have one, you can create a dedicated\n'notebooks' token with 'write' access, that you can then easily reuse for all\nnotebooks. </center>"
          }
        },
        "9cb46bdceaea4a99b45f3328e9969ff2": {
          "model_module": "@jupyter-widgets/controls",
          "model_module_version": "1.5.0",
          "model_name": "HTMLModel",
          "state": {
            "_dom_classes": [],
            "_model_module": "@jupyter-widgets/controls",
            "_model_module_version": "1.5.0",
            "_model_name": "HTMLModel",
            "_view_count": null,
            "_view_module": "@jupyter-widgets/controls",
            "_view_module_version": "1.5.0",
            "_view_name": "HTMLView",
            "description": "",
            "description_tooltip": null,
            "layout": "IPY_MODEL_83601c37729446e7a5a5a40622a0c8cf",
            "placeholder": "​",
            "style": "IPY_MODEL_075c04d496954b2b9ea7554f083eb2f8",
            "value": "<center> <img\nsrc=https://huggingface.co/front/assets/huggingface_logo-noborder.svg\nalt='Hugging Face'> <br> Copy a token from <a\nhref=\"https://huggingface.co/settings/tokens\" target=\"_blank\">your Hugging Face\ntokens page</a> and paste it below. <br> Immediately click login after copying\nyour token or it might be stored in plain text in this notebook file. </center>"
          }
        },
        "a1909ecc0ab4433c906ee586c2cc6a07": {
          "model_module": "@jupyter-widgets/base",
          "model_module_version": "1.2.0",
          "model_name": "LayoutModel",
          "state": {
            "_model_module": "@jupyter-widgets/base",
            "_model_module_version": "1.2.0",
            "_model_name": "LayoutModel",
            "_view_count": null,
            "_view_module": "@jupyter-widgets/base",
            "_view_module_version": "1.2.0",
            "_view_name": "LayoutView",
            "align_content": null,
            "align_items": null,
            "align_self": null,
            "border": null,
            "bottom": null,
            "display": null,
            "flex": null,
            "flex_flow": null,
            "grid_area": null,
            "grid_auto_columns": null,
            "grid_auto_flow": null,
            "grid_auto_rows": null,
            "grid_column": null,
            "grid_gap": null,
            "grid_row": null,
            "grid_template_areas": null,
            "grid_template_columns": null,
            "grid_template_rows": null,
            "height": null,
            "justify_content": null,
            "justify_items": null,
            "left": null,
            "margin": null,
            "max_height": null,
            "max_width": null,
            "min_height": null,
            "min_width": null,
            "object_fit": null,
            "object_position": null,
            "order": null,
            "overflow": null,
            "overflow_x": null,
            "overflow_y": null,
            "padding": null,
            "right": null,
            "top": null,
            "visibility": null,
            "width": null
          }
        },
        "a5223b93973e49b58bd95ccd86975b60": {
          "model_module": "@jupyter-widgets/controls",
          "model_module_version": "1.5.0",
          "model_name": "DescriptionStyleModel",
          "state": {
            "_model_module": "@jupyter-widgets/controls",
            "_model_module_version": "1.5.0",
            "_model_name": "DescriptionStyleModel",
            "_view_count": null,
            "_view_module": "@jupyter-widgets/base",
            "_view_module_version": "1.2.0",
            "_view_name": "StyleView",
            "description_width": ""
          }
        },
        "a715ca81311a4c698fd4280f05fd433a": {
          "model_module": "@jupyter-widgets/controls",
          "model_module_version": "1.5.0",
          "model_name": "HTMLModel",
          "state": {
            "_dom_classes": [],
            "_model_module": "@jupyter-widgets/controls",
            "_model_module_version": "1.5.0",
            "_model_name": "HTMLModel",
            "_view_count": null,
            "_view_module": "@jupyter-widgets/controls",
            "_view_module_version": "1.5.0",
            "_view_name": "HTMLView",
            "description": "",
            "description_tooltip": null,
            "layout": "IPY_MODEL_ae718b1aef3546bbb8e5b9a69c9dca62",
            "placeholder": "​",
            "style": "IPY_MODEL_dea9fff5703b4c8e921b45500d67e7ed",
            "value": " 2/2 [00:01&lt;00:00,  1.62s/it]"
          }
        },
        "ae718b1aef3546bbb8e5b9a69c9dca62": {
          "model_module": "@jupyter-widgets/base",
          "model_module_version": "1.2.0",
          "model_name": "LayoutModel",
          "state": {
            "_model_module": "@jupyter-widgets/base",
            "_model_module_version": "1.2.0",
            "_model_name": "LayoutModel",
            "_view_count": null,
            "_view_module": "@jupyter-widgets/base",
            "_view_module_version": "1.2.0",
            "_view_name": "LayoutView",
            "align_content": null,
            "align_items": null,
            "align_self": null,
            "border": null,
            "bottom": null,
            "display": null,
            "flex": null,
            "flex_flow": null,
            "grid_area": null,
            "grid_auto_columns": null,
            "grid_auto_flow": null,
            "grid_auto_rows": null,
            "grid_column": null,
            "grid_gap": null,
            "grid_row": null,
            "grid_template_areas": null,
            "grid_template_columns": null,
            "grid_template_rows": null,
            "height": null,
            "justify_content": null,
            "justify_items": null,
            "left": null,
            "margin": null,
            "max_height": null,
            "max_width": null,
            "min_height": null,
            "min_width": null,
            "object_fit": null,
            "object_position": null,
            "order": null,
            "overflow": null,
            "overflow_x": null,
            "overflow_y": null,
            "padding": null,
            "right": null,
            "top": null,
            "visibility": null,
            "width": null
          }
        },
        "c5be5cfa2886495eb45e8c2db3ada8f7": {
          "model_module": "@jupyter-widgets/controls",
          "model_module_version": "1.5.0",
          "model_name": "LabelModel",
          "state": {
            "_dom_classes": [],
            "_model_module": "@jupyter-widgets/controls",
            "_model_module_version": "1.5.0",
            "_model_name": "LabelModel",
            "_view_count": null,
            "_view_module": "@jupyter-widgets/controls",
            "_view_module_version": "1.5.0",
            "_view_name": "LabelView",
            "description": "",
            "description_tooltip": null,
            "layout": "IPY_MODEL_0a49c03f744445a7830180109dda0550",
            "placeholder": "​",
            "style": "IPY_MODEL_098555eb61284079868d5021b5d7dbab",
            "value": "Connecting..."
          }
        },
        "d1c1d6498e8b4c799e22b7e837d4263c": {
          "model_module": "@jupyter-widgets/base",
          "model_module_version": "1.2.0",
          "model_name": "LayoutModel",
          "state": {
            "_model_module": "@jupyter-widgets/base",
            "_model_module_version": "1.2.0",
            "_model_name": "LayoutModel",
            "_view_count": null,
            "_view_module": "@jupyter-widgets/base",
            "_view_module_version": "1.2.0",
            "_view_name": "LayoutView",
            "align_content": null,
            "align_items": null,
            "align_self": null,
            "border": null,
            "bottom": null,
            "display": null,
            "flex": null,
            "flex_flow": null,
            "grid_area": null,
            "grid_auto_columns": null,
            "grid_auto_flow": null,
            "grid_auto_rows": null,
            "grid_column": null,
            "grid_gap": null,
            "grid_row": null,
            "grid_template_areas": null,
            "grid_template_columns": null,
            "grid_template_rows": null,
            "height": null,
            "justify_content": null,
            "justify_items": null,
            "left": null,
            "margin": null,
            "max_height": null,
            "max_width": null,
            "min_height": null,
            "min_width": null,
            "object_fit": null,
            "object_position": null,
            "order": null,
            "overflow": null,
            "overflow_x": null,
            "overflow_y": null,
            "padding": null,
            "right": null,
            "top": null,
            "visibility": null,
            "width": null
          }
        },
        "d9ecd510fb6a48c3987130b04f6287d6": {
          "model_module": "@jupyter-widgets/base",
          "model_module_version": "1.2.0",
          "model_name": "LayoutModel",
          "state": {
            "_model_module": "@jupyter-widgets/base",
            "_model_module_version": "1.2.0",
            "_model_name": "LayoutModel",
            "_view_count": null,
            "_view_module": "@jupyter-widgets/base",
            "_view_module_version": "1.2.0",
            "_view_name": "LayoutView",
            "align_content": null,
            "align_items": null,
            "align_self": null,
            "border": null,
            "bottom": null,
            "display": null,
            "flex": null,
            "flex_flow": null,
            "grid_area": null,
            "grid_auto_columns": null,
            "grid_auto_flow": null,
            "grid_auto_rows": null,
            "grid_column": null,
            "grid_gap": null,
            "grid_row": null,
            "grid_template_areas": null,
            "grid_template_columns": null,
            "grid_template_rows": null,
            "height": null,
            "justify_content": null,
            "justify_items": null,
            "left": null,
            "margin": null,
            "max_height": null,
            "max_width": null,
            "min_height": null,
            "min_width": null,
            "object_fit": null,
            "object_position": null,
            "order": null,
            "overflow": null,
            "overflow_x": null,
            "overflow_y": null,
            "padding": null,
            "right": null,
            "top": null,
            "visibility": null,
            "width": null
          }
        },
        "dea9fff5703b4c8e921b45500d67e7ed": {
          "model_module": "@jupyter-widgets/controls",
          "model_module_version": "1.5.0",
          "model_name": "DescriptionStyleModel",
          "state": {
            "_model_module": "@jupyter-widgets/controls",
            "_model_module_version": "1.5.0",
            "_model_name": "DescriptionStyleModel",
            "_view_count": null,
            "_view_module": "@jupyter-widgets/base",
            "_view_module_version": "1.2.0",
            "_view_name": "StyleView",
            "description_width": ""
          }
        },
        "e2337937d9144d1ea9a3e1a544d76b68": {
          "model_module": "@jupyter-widgets/controls",
          "model_module_version": "1.5.0",
          "model_name": "DescriptionStyleModel",
          "state": {
            "_model_module": "@jupyter-widgets/controls",
            "_model_module_version": "1.5.0",
            "_model_name": "DescriptionStyleModel",
            "_view_count": null,
            "_view_module": "@jupyter-widgets/base",
            "_view_module_version": "1.2.0",
            "_view_name": "StyleView",
            "description_width": ""
          }
        },
        "f09e7cb22fd840acbb5da36409ff6f2b": {
          "model_module": "@jupyter-widgets/controls",
          "model_module_version": "1.5.0",
          "model_name": "HBoxModel",
          "state": {
            "_dom_classes": [],
            "_model_module": "@jupyter-widgets/controls",
            "_model_module_version": "1.5.0",
            "_model_name": "HBoxModel",
            "_view_count": null,
            "_view_module": "@jupyter-widgets/controls",
            "_view_module_version": "1.5.0",
            "_view_name": "HBoxView",
            "box_style": "",
            "children": [
              "IPY_MODEL_4b57280b6ff843dca616ea1ed581aa0e",
              "IPY_MODEL_67e893fed75a4dc0a1ecc762f042f492",
              "IPY_MODEL_a715ca81311a4c698fd4280f05fd433a"
            ],
            "layout": "IPY_MODEL_9259a6eee83946dbb4215daf983c75be"
          }
        }
      }
    }
  },
  "nbformat": 4,
  "nbformat_minor": 0
}
